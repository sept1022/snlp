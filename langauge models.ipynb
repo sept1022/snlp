{
 "cells": [
  {
   "cell_type": "code",
   "execution_count": 46,
   "metadata": {
    "collapsed": true
   },
   "outputs": [],
   "source": [
    "from nltk.corpus import gutenberg\n",
    "from collections import Counter"
   ]
  },
  {
   "cell_type": "code",
   "execution_count": 47,
   "metadata": {
    "collapsed": true
   },
   "outputs": [],
   "source": [
    "training_set = gutenberg.fileids().copy()\n",
    "test_set = 'austen-persuasion.txt'\n",
    "training_set.remove(test_set)"
   ]
  },
  {
   "cell_type": "code",
   "execution_count": 48,
   "metadata": {},
   "outputs": [
    {
     "name": "stdout",
     "output_type": "stream",
     "text": [
      "training_set: ['austen-emma.txt', 'austen-sense.txt', 'bible-kjv.txt', 'blake-poems.txt', 'bryant-stories.txt', 'burgess-busterbrown.txt', 'carroll-alice.txt', 'chesterton-ball.txt', 'chesterton-brown.txt', 'chesterton-thursday.txt', 'edgeworth-parents.txt', 'melville-moby_dick.txt', 'milton-paradise.txt', 'shakespeare-caesar.txt', 'shakespeare-hamlet.txt', 'shakespeare-macbeth.txt', 'whitman-leaves.txt']\n",
      "test_set: austen-persuasion.txt\n"
     ]
    }
   ],
   "source": [
    "print('training_set:', training_set)\n",
    "print('test_set:', test_set)"
   ]
  },
  {
   "cell_type": "code",
   "execution_count": 49,
   "metadata": {
    "collapsed": true
   },
   "outputs": [],
   "source": [
    "sents = gutenberg.sents(training_set)\n",
    "words = gutenberg.words(training_set)"
   ]
  },
  {
   "cell_type": "code",
   "execution_count": 50,
   "metadata": {},
   "outputs": [
    {
     "name": "stdout",
     "output_type": "stream",
     "text": [
      "sents: 94805 words: 2523442 avg length: 26.617182638046515\n"
     ]
    }
   ],
   "source": [
    "print('sents:', len(sents), 'words:', len(words), 'avg length:', len(words)/len(sents))"
   ]
  },
  {
   "cell_type": "code",
   "execution_count": 51,
   "metadata": {},
   "outputs": [
    {
     "name": "stdout",
     "output_type": "stream",
     "text": [
      "words: 2523442 vocabulary: 50738\n"
     ]
    }
   ],
   "source": [
    "unigram = Counter(words)\n",
    "print('words:', len(words), 'vocabulary:', len(unigram))"
   ]
  },
  {
   "cell_type": "code",
   "execution_count": 52,
   "metadata": {
    "scrolled": true
   },
   "outputs": [
    {
     "data": {
      "text/plain": [
       "[(',', 179341),\n",
       " ('the', 122628),\n",
       " ('and', 76107),\n",
       " ('.', 71005),\n",
       " ('of', 67514),\n",
       " (':', 47282),\n",
       " ('to', 43668),\n",
       " ('a', 30975),\n",
       " ('in', 30613),\n",
       " ('I', 29097),\n",
       " ('that', 26436),\n",
       " (';', 26039),\n",
       " ('he', 21462),\n",
       " ('his', 19960),\n",
       " (\"'\", 19348),\n",
       " ('it', 18877),\n",
       " ('was', 17228),\n",
       " ('And', 16471),\n",
       " ('with', 16184),\n",
       " ('for', 16165)]"
      ]
     },
     "execution_count": 52,
     "metadata": {},
     "output_type": "execute_result"
    }
   ],
   "source": [
    "unigram.most_common()[:20]"
   ]
  },
  {
   "cell_type": "code",
   "execution_count": 98,
   "metadata": {},
   "outputs": [
    {
     "name": "stdout",
     "output_type": "stream",
     "text": [
      "punctuation: !\"#$%&'()*+,-./:;<=>?@[\\]^_`{|}~\n",
      "uncommon word: ['1816', 'valetudinarian', 'Matrimony', 'chatted', 'curtseys', 'bangs', 'Dirty', 'drizzle', 'Mitchell', 'Success']\n"
     ]
    }
   ],
   "source": [
    "import string\n",
    "punct = string.punctuation\n",
    "print('punctuation:', punct)\n",
    "\n",
    "unk_list = [w for w, c in unigram.items() if c == 1]\n",
    "print('uncommon word:', unk_list[:10])"
   ]
  },
  {
   "cell_type": "code",
   "execution_count": 131,
   "metadata": {},
   "outputs": [
    {
     "name": "stdout",
     "output_type": "stream",
     "text": [
      "0 [['<s>', 'Emma', 'by', 'Jane', 'Austen', '_NUM_', '</s>'], ['<s>', 'VOLUME', 'I', '</s>'], ['<s>', 'CHAPTER', 'I', '</s>'], ['<s>', 'Emma', 'Woodhouse', 'handsome', 'clever', 'and', 'rich', 'with', 'a', 'comfortable', 'home', 'and', 'happy', 'disposition', 'seemed', 'to', 'unite', 'some', 'of', 'the', 'best', 'blessings', 'of', 'existence', 'and', 'had', 'lived', 'nearly', 'twenty', 'one', 'years', 'in', 'the', 'world', 'with', 'very', 'little', 'to', 'distress', 'or', 'vex', 'her', '</s>'], ['<s>', 'She', 'was', 'the', 'youngest', 'of', 'the', 'two', 'daughters', 'of', 'a', 'most', 'affectionate', 'indulgent', 'father', 'and', 'had', 'in', 'consequence', 'of', 'her', 'sister', 's', 'marriage', 'been', 'mistress', 'of', 'his', 'house', 'from', 'a', 'very', 'early', 'period', '</s>']]\n"
     ]
    }
   ],
   "source": [
    "unk_list = set(unk_list)\n",
    "def preprocessing(sents):\n",
    "    for c, sent in enumerate(sents):\n",
    "        if c % 10000 == 0:\n",
    "            print(c, end=' ')\n",
    "        for i, word in enumerate(sent):\n",
    "            if word in punct:\n",
    "                sent.remove(word)\n",
    "            elif word.isdigit():\n",
    "                sent[i] = '_NUM_'\n",
    "            elif word in unk_list:\n",
    "                sent[i] = '_UNK_'\n",
    "        sent.insert(0, '<s>')\n",
    "        sent.append('</s>')\n",
    "sample_sents = list(sents[:5]).copy()\n",
    "preprocessing(sample_sents)\n",
    "print(sample_sents)"
   ]
  },
  {
   "cell_type": "markdown",
   "metadata": {},
   "source": [
    "## make n-gram"
   ]
  },
  {
   "cell_type": "code",
   "execution_count": 132,
   "metadata": {},
   "outputs": [
    {
     "name": "stdout",
     "output_type": "stream",
     "text": [
      "0 10000 20000 30000 40000 50000 60000 70000 80000 90000 "
     ]
    }
   ],
   "source": [
    "preprocessed_sents = list(sents).copy()\n",
    "preprocessing(preprocessed_sents)"
   ]
  },
  {
   "cell_type": "code",
   "execution_count": 142,
   "metadata": {},
   "outputs": [],
   "source": [
    "def make_ngram(sents, n, container):\n",
    "    for i, sent in enumerate(sents):\n",
    "        for i in range(0, len(sent)-n+1):\n",
    "            gram = ' '.join(sent[i:i+n])\n",
    "            container.setdefault(gram, 0)\n",
    "            container[gram] += 1"
   ]
  },
  {
   "cell_type": "code",
   "execution_count": 148,
   "metadata": {},
   "outputs": [
    {
     "name": "stdout",
     "output_type": "stream",
     "text": [
      "unigram:  [('<s>', 94805), ('Emma', 865), ('by', 7601), ('Jane', 302), ('Austen', 2), ('_NUM_', 26919), ('</s>', 94805), ('VOLUME', 3), ('I', 29097), ('CHAPTER', 291)]\n",
      "bigram:  [('<s> Emma', 223), ('Emma by', 2), ('by Jane', 3), ('Jane Austen', 2), ('Austen _NUM_', 2), ('_NUM_ </s>', 294), ('<s> VOLUME', 3), ('VOLUME I', 1), ('I </s>', 117), ('<s> CHAPTER', 276)]\n",
      "trigram:  [('<s> Emma by', 1), ('Emma by Jane', 1), ('by Jane Austen', 2), ('Jane Austen _NUM_', 2), ('Austen _NUM_ </s>', 2), ('<s> VOLUME I', 1), ('VOLUME I </s>', 1), ('<s> CHAPTER I', 8), ('CHAPTER I </s>', 10), ('<s> Emma Woodhouse', 1)]\n"
     ]
    }
   ],
   "source": [
    "unigram = {}\n",
    "make_ngram(preprocessed_sents, 1, unigram)\n",
    "print('unigram: ', list(unigram.items())[:10])\n",
    "\n",
    "bigram = {}\n",
    "make_ngram(preprocessed_sents, 2, bigram)\n",
    "print('bigram: ', list(bigram.items())[:10])\n",
    "\n",
    "trigram = {}\n",
    "make_ngram(preprocessed_sents, 3, trigram)\n",
    "print('trigram: ', list(trigram.items())[:10])"
   ]
  },
  {
   "cell_type": "code",
   "execution_count": 153,
   "metadata": {
    "collapsed": true
   },
   "outputs": [],
   "source": [
    "def write_model(path, container):\n",
    "    with open(path, 'w') as out:\n",
    "        out.write('\\n'.join([gram + '\\t' + str(count) for gram, count in container.items()]))\n",
    "\n",
    "write_model('./unigram.txt', unigram)\n",
    "write_model('./bigram.txt', bigram)\n",
    "write_model('./trigram.txt', trigram)"
   ]
  },
  {
   "cell_type": "code",
   "execution_count": 8,
   "metadata": {},
   "outputs": [
    {
     "data": {
      "text/latex": [
       "\\begin{align}\n",
       "P(w_n|w_1 \\cdots w_{n-1}) = \\frac{P(w_1 \\cdots w_n)}{P(w_1 \\cdots w_{n-1})}\n",
       "\\end{align}"
      ],
      "text/plain": [
       "<IPython.core.display.Latex object>"
      ]
     },
     "metadata": {},
     "output_type": "display_data"
    }
   ],
   "source": [
    "%%latex\n",
    "\\begin{align}\n",
    "P(w_n|w_1 \\cdots w_{n-1}) = \\frac{P(w_1 \\cdots w_n)}{P(w_1 \\cdots w_{n-1})}\n",
    "\\end{align}"
   ]
  },
  {
   "cell_type": "code",
   "execution_count": 158,
   "metadata": {},
   "outputs": [
    {
     "data": {
      "text/plain": [
       "['[', 'Emma', 'by', 'Jane', 'Austen', '1816', ']']"
      ]
     },
     "execution_count": 158,
     "metadata": {},
     "output_type": "execute_result"
    }
   ],
   "source": [
    "sents[0]"
   ]
  },
  {
   "cell_type": "code",
   "execution_count": null,
   "metadata": {
    "collapsed": true
   },
   "outputs": [],
   "source": []
  }
 ],
 "metadata": {
  "kernelspec": {
   "display_name": "Python 3",
   "language": "python",
   "name": "python3"
  },
  "language_info": {
   "codemirror_mode": {
    "name": "ipython",
    "version": 3
   },
   "file_extension": ".py",
   "mimetype": "text/x-python",
   "name": "python",
   "nbconvert_exporter": "python",
   "pygments_lexer": "ipython3",
   "version": "3.6.3"
  }
 },
 "nbformat": 4,
 "nbformat_minor": 2
}
